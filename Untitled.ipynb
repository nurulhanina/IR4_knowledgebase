{
 "cells": [
  {
   "cell_type": "code",
   "execution_count": 30,
   "id": "5e952a39",
   "metadata": {},
   "outputs": [
    {
     "name": "stdout",
     "output_type": "stream",
     "text": [
      "Index(['EN', 'MY', 'DEF_EN', 'DEF_MY'], dtype='object')\n"
     ]
    }
   ],
   "source": [
    "import gspread\n",
    "import oauth2client\n",
    "from oauth2client.service_account import ServiceAccountCredentials\n",
    "import pandas as pd\n",
    "scope = ['https://spreadsheets.google.com/feeds','https://www.googleapis.com/auth/drive','https://www.googleapis.com/auth/spreadsheets']\n",
    "creds = ServiceAccountCredentials.from_json_keyfile_name('gs_credential.json', scope)\n",
    "client = gspread.authorize(creds)\n",
    "sheet = client.open('Copy of ir4_database')\n",
    "#Database - IR4 Term\n",
    "sheet_instance1 = sheet.get_worksheet(0)\n",
    "records_data1 = sheet_instance1.get_all_records()\n",
    "df = pd.DataFrame.from_dict(records_data1).dropna()\n",
    "#Database - IR4 Ontology\n",
    "sheet_instance2 = sheet.get_worksheet(1)\n",
    "records_data2 = sheet_instance2.get_all_records()\n",
    "df1 = pd.DataFrame.from_dict(records_data2).dropna()\n",
    "#Database - IR4 New\n",
    "sheet_instance3 = sheet.get_worksheet(2)\n",
    "records_data3 = sheet_instance3.get_all_records()\n",
    "df2 = pd.DataFrame.from_dict(records_data3).dropna()\n",
    "\n",
    "print(df.keys())"
   ]
  },
  {
   "cell_type": "code",
   "execution_count": 37,
   "id": "784740a2",
   "metadata": {},
   "outputs": [
    {
     "name": "stderr",
     "output_type": "stream",
     "text": [
      "C:\\Users\\Nurul_Hanina\\AppData\\Local\\Temp\\ipykernel_11952\\3090545352.py:14: DeprecationWarning: Worksheet.delete_row() is deprecated, Please use `Worksheet.delete_rows()` instead.\n",
      "  sheet_instance3.delete_row(1)\n"
     ]
    },
    {
     "data": {
      "text/plain": [
       "{'spreadsheetId': '1ddnrZdvURsezyv1TLEP0OTi8jdsQDyYiCqSi7LCWpNU',\n",
       " 'tableRange': 'Sheet2!A1:P306',\n",
       " 'updates': {'spreadsheetId': '1ddnrZdvURsezyv1TLEP0OTi8jdsQDyYiCqSi7LCWpNU',\n",
       "  'updatedRange': 'Sheet2!A307:P307',\n",
       "  'updatedRows': 1,\n",
       "  'updatedColumns': 16,\n",
       "  'updatedCells': 16}}"
      ]
     },
     "execution_count": 37,
     "metadata": {},
     "output_type": "execute_result"
    }
   ],
   "source": [
    "text=\"Binder Jetting\"\n",
    "new_defen=\"An additive manufacturing process in which an industrial printhead selectively deposits a liquid binding agent onto a thin layer of powder particles.\"\n",
    "new_my=\"Jet Pengikat\"\n",
    "new_defmy=\"Proses pembuatan bahan tambahan di mana kepala cetak perindustrian secara selektif mendepositkan agen pengikat cecair pada lapisan nipis zarah serbuk\"\n",
    "newclass=[\"Additive Manufacturing\",\"\",\"\",\"\",\"\",\"\",\"\",\"\",\"\",\"\"]\n",
    "newsame=[\"\",\"\",\"\",\"\",\"\"]\n",
    "#classadd=write_hierarchy()\n",
    "#new_row1={'EN':text,'MY':new_my,'DEF_EN':new_defen,'DEF_MY':new_defmy}\n",
    "new_row1=[text,new_my,new_defen,new_defmy]\n",
    "#df.append(new_row1,ignore_index=True)\n",
    "new_row2=[text,newclass[0],newclass[1],newclass[2],newclass[3],newclass[4],newclass[5],newclass[6],newclass[7],newclass[8],newclass[9],newsame[0],newsame[1],newsame[2],newsame[3],newsame[4]]\n",
    "#df2=df2.drop(df2.index[1])\n",
    "sheet_instance1.append_row(new_row1)\n",
    "sheet_instance3.delete_row(1)\n",
    "sheet_instance2.append_row(new_row2)\n",
    "#sheet_instance2.append_row(new_row2)\n",
    "#sheet_instance3.append_row(df2.tolist())"
   ]
  }
 ],
 "metadata": {
  "kernelspec": {
   "display_name": "Python 3 (ipykernel)",
   "language": "python",
   "name": "python3"
  },
  "language_info": {
   "codemirror_mode": {
    "name": "ipython",
    "version": 3
   },
   "file_extension": ".py",
   "mimetype": "text/x-python",
   "name": "python",
   "nbconvert_exporter": "python",
   "pygments_lexer": "ipython3",
   "version": "3.9.12"
  }
 },
 "nbformat": 4,
 "nbformat_minor": 5
}
