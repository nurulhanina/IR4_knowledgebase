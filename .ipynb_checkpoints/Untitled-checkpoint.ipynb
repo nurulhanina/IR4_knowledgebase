{
 "cells": [
  {
   "cell_type": "code",
   "execution_count": 12,
   "id": "5e952a39",
   "metadata": {},
   "outputs": [
    {
     "name": "stdout",
     "output_type": "stream",
     "text": [
      "Hehe 0      Pembuatan Bahan Tambahan\n",
      "1             Kepintaran Buatan\n",
      "2                     Algoritma\n",
      "3                Realiti Luasan\n",
      "4                      Automasi\n",
      "                 ...           \n",
      "301                            \n",
      "302                            \n",
      "303                    Big Data\n",
      "304                            \n",
      "305                            \n",
      "Name: MY, Length: 306, dtype: object\n"
     ]
    }
   ],
   "source": [
    "import gspread\n",
    "import oauth2client\n",
    "from oauth2client.service_account import ServiceAccountCredentials\n",
    "import pandas as pd\n",
    "scope = ['https://spreadsheets.google.com/feeds','https://www.googleapis.com/auth/drive','https://www.googleapis.com/auth/spreadsheets']\n",
    "creds = ServiceAccountCredentials.from_json_keyfile_name('gs_credential.json', scope)\n",
    "client = gspread.authorize(creds)\n",
    "sheet = client.open('ir4_database')\n",
    "#Database - IR4 Term\n",
    "sheet_instance1 = sheet.get_worksheet(0)\n",
    "records_data1 = sheet_instance1.get_all_records()\n",
    "df = pd.DataFrame.from_dict(records_data1).dropna()\n",
    "#Database - IR4 Ontology\n",
    "sheet_instance2 = sheet.get_worksheet(1)\n",
    "records_data2 = sheet_instance2.get_all_records()\n",
    "df1 = pd.DataFrame.from_dict(records_data2).dropna()\n",
    "#Database - IR4 New\n",
    "sheet_instance3 = sheet.get_worksheet(2)\n",
    "records_data3 = sheet_instance3.get_all_records()\n",
    "df2 = pd.DataFrame.from_dict(records_data3).dropna()\n",
    "\n",
    "print(\"Hehe\",df['MY'])"
   ]
  }
 ],
 "metadata": {
  "kernelspec": {
   "display_name": "Python 3 (ipykernel)",
   "language": "python",
   "name": "python3"
  },
  "language_info": {
   "codemirror_mode": {
    "name": "ipython",
    "version": 3
   },
   "file_extension": ".py",
   "mimetype": "text/x-python",
   "name": "python",
   "nbconvert_exporter": "python",
   "pygments_lexer": "ipython3",
   "version": "3.9.12"
  }
 },
 "nbformat": 4,
 "nbformat_minor": 5
}
